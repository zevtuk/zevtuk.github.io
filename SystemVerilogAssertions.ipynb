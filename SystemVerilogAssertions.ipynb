{
 "cells": [
  {
   "cell_type": "markdown",
   "metadata": {},
   "source": [
    "[markdownguid by John Gruber](https://www.markdownguide.org/basic-syntax)"
   ]
  },
  {
   "cell_type": "markdown",
   "metadata": {},
   "source": [
    "# Sequence Composition\n",
    "\n",
    "- sequential\n",
    "\n",
    "- fusion\n",
    "        SEQ_A ##0 SEQ_B\n",
    "\n",
    "- or\n",
    "\n",
    "- and\n",
    " - consurrent sequences start, but need not complete in the same cycle\n",
    " -  non-length matching\n",
    "\n",
    "- interset\n",
    " - concurrent sequences start and must complete in the same cycle\n",
    " - length matching\n",
    " - Exp 1: From **EN1**, **DPULSE** must occur between 4 and 8 times over the next 15 cycles\n",
    "        EN1 |=> (DPULSE[=4:8] intersect (1'b1[*15])\n",
    " - Exp 2: If **START** occurs, then on the next **POP** either **TAG** is 2 or, the **BUSY** signal is turned on and when it is turned off, the signal **SKIP** is on.\n",
    "        START |=> POP[->1] ##0 (TAG==2) or (BUSY[*1:$] ##1 (!BUSY && SKIP));\n",
    "\n",
    "- throught\n",
    " - a boolean expression is true for the duration of a sequence\n",
    " - These two are equivalentant to each other. \n",
    "        (expr1) throughout (SEQA)\n",
    "        (expr1)[*0:$] intersect (SEQA)\n",
    " - Exp 3:\n",
    "        ENAB |=> (CE) throughout (SAB[*2]);\n",
    "    \n",
    "- within\n",
    " - the one sequence is enclosed by another\n",
    "\n",
    "- Example : A sequence beginning with **START**, followed by 6 consecutive occurrences of **PUSH**, during which **KILL** does not occur, must be followed by 6 nonconsecutive occurrences of **POP** before **STOP** can occur.\n",
    "```\n",
    "STARTT ##1 (PUSH && !KILL)[*6] |=> !STOP throughout POP[->6];\n",
    "```"
   ]
  },
  {
   "cell_type": "code",
   "execution_count": null,
   "metadata": {},
   "outputs": [],
   "source": []
  }
 ],
 "metadata": {
  "kernelspec": {
   "display_name": "Python 3",
   "language": "python",
   "name": "python3"
  },
  "language_info": {
   "codemirror_mode": {
    "name": "ipython",
    "version": 3
   },
   "file_extension": ".py",
   "mimetype": "text/x-python",
   "name": "python",
   "nbconvert_exporter": "python",
   "pygments_lexer": "ipython3",
   "version": "3.7.6"
  }
 },
 "nbformat": 4,
 "nbformat_minor": 4
}
