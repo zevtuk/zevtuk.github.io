{
 "cells": [
  {
   "cell_type": "markdown",
   "metadata": {},
   "source": [
    "<code>\n",
    "array set REG_CFGS {\n",
    "\n",
    "   u_mspi_xip_dma.BIGENDIAN   1'b0\n",
    "   u_mspi_xip_dma.PIOSCRAMBLE 1'b0\n",
    "   u_mspi_xip_dma.ctrl_sel    1'b0   \n",
    "\n",
    "    }\n",
    "\n",
    "\n",
    "foreach {net value} [array get REG_CFGS] {\n",
    "  puts \"$net --> $value\"\n",
    "  set cmd1 \"stopat -env $net\"\n",
    "  set cmd2 \"assume -name {$net} -env {$net == $value}\"\n",
    "  eval $cmd1\n",
    "  eval $cmd2\n",
    "}\n",
    "\n",
    "\n",
    "<code>"
   ]
  }
 ],
 "metadata": {
  "kernelspec": {
   "display_name": "Python 3",
   "language": "python",
   "name": "python3"
  },
  "language_info": {
   "codemirror_mode": {
    "name": "ipython",
    "version": 3
   },
   "file_extension": ".py",
   "mimetype": "text/x-python",
   "name": "python",
   "nbconvert_exporter": "python",
   "pygments_lexer": "ipython3",
   "version": "3.7.6"
  }
 },
 "nbformat": 4,
 "nbformat_minor": 4
}
